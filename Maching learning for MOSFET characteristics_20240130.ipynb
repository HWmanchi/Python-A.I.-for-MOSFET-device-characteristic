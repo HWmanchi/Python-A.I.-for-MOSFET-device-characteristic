{
 "cells": [
  {
   "cell_type": "code",
   "execution_count": 289,
   "id": "857ed1da",
   "metadata": {},
   "outputs": [],
   "source": [
    "import tensorflow as tf, numpy as np, matplotlib.pyplot as plt\n",
    "#from nn import *\n",
    "import pandas as pd"
   ]
  },
  {
   "cell_type": "code",
   "execution_count": 290,
   "id": "7bda79bb",
   "metadata": {},
   "outputs": [],
   "source": [
    "def sub_vth(w_l,vgs,vth,temp=300):\n",
    "    \"\"\"\n",
    "    Helper function to calculate sub-vth current analytically.\n",
    "    \n",
    "    Uses randomized parameters to mimic \n",
    "    measurement noise and manufacturing/material variability\n",
    "    \"\"\"\n",
    "    # Electron charge\n",
    "    q = 1.60218e-19\n",
    "    # Boltzman constant\n",
    "    k = 1.3806e-23\n",
    "    # Capacitance factor (randomized to mimic manufacturing variability)\n",
    "    eta = 1.2+0.01*np.random.normal()\n",
    "    # Mobility factor/coefficient (randomized to mimic material and manufacturing variability)\n",
    "    w_l = w_l*(1+0.01*np.random.normal())\n",
    "    \n",
    "    return w_l*np.exp(q*(vgs-vth)/(eta*k*temp))"
   ]
  },
  {
   "cell_type": "code",
   "execution_count": 291,
   "id": "9b6d05c6",
   "metadata": {},
   "outputs": [],
   "source": [
    "class MOSFET:\n",
    "    def __init__(self,params=None,terminals=None):\n",
    "        \n",
    "        # Params\n",
    "        if params is None:\n",
    "            self._params_ = {'BV':20,\n",
    "                             'Vth':1.0,\n",
    "                             'gm':1e-2}\n",
    "        else:\n",
    "            self._params_ = params\n",
    "        \n",
    "        # Terminals\n",
    "        if terminals is None:\n",
    "            self._terminals_ = {'source':0.0,\n",
    "                        'drain':0.0,\n",
    "                        'gate':0.0}\n",
    "        else:\n",
    "            self._terminals_ = terminals\n",
    "        \n",
    "        # Determine state\n",
    "        self._state_ = self.determine_state()\n",
    "        \n",
    "        # Leakage model trained?\n",
    "        self._leakage_ = False\n",
    "        self.leakage_model = None\n",
    "    \n",
    "    def __repr__(self):\n",
    "        return \"Digital Twin of a MOSFET\"\n",
    "    \n",
    "    def determine_state(self,vgs=None):\n",
    "        \"\"\"\n",
    "        \"\"\"\n",
    "        if vgs is None:\n",
    "            vgs = self._terminals_['gate'] - self._terminals_['source']\n",
    "        else:\n",
    "            vgs = vgs\n",
    "        if vgs > self._params_['Vth']:\n",
    "            return 'ON'\n",
    "        else:\n",
    "            return 'OFF'\n",
    "    \n",
    "    def id_vd(self,vgs=None,vds=None,rounding=True):\n",
    "        \"\"\"\n",
    "        Calculates drain-source current from terminal voltages and gm \n",
    "        \"\"\"        \n",
    "        if vds is None:\n",
    "            vds = self._terminals_['drain'] - self._terminals_['source']\n",
    "        else:\n",
    "            vds = vds\n",
    "        if vgs is None:\n",
    "            vgs = self._terminals_['gate'] - self._terminals_['source']\n",
    "        else:\n",
    "            vgs = vgs\n",
    "        \n",
    "        vth = self._params_['Vth']\n",
    "        state = self.determine_state(vgs=vgs)\n",
    "        self._state_ = state\n",
    "        \n",
    "        if state=='ON':\n",
    "            if vds <= vgs - vth:\n",
    "                ids = self._params_['gm']*(vgs - vth - (vds/2))*vds\n",
    "            else:\n",
    "                ids = (self._params_['gm']/2)*(vgs-vth)**2\n",
    "            if rounding:\n",
    "                return round(ids,3)\n",
    "            else:\n",
    "                return ids\n",
    "        else:\n",
    "            return sub_vth(w_l=self._params_['gm'],\n",
    "                           vgs=vgs,\n",
    "                           vth=vth)\n",
    "            #return 0.0\n",
    "        \n",
    "    def rdson(self,vgs=None,vds=None):\n",
    "        \"\"\"\n",
    "        Calculates Rdson i.e. on-state resistance of the MOSFET\n",
    "        \"\"\"\n",
    "        if vds is None:\n",
    "            vds = self._terminals_['drain'] - self._terminals_['source']\n",
    "        else:\n",
    "            vds = vds\n",
    "        if vgs is None:\n",
    "            vgs = self._terminals_['gate'] - self._terminals_['source']\n",
    "        else:\n",
    "            vgs = vgs\n",
    "        \n",
    "        ids = self.id_vd(vgs=vgs,vds=vds,rounding=False)\n",
    "        vds_delta = vds+0.001\n",
    "        ids_delta = self.id_vd(vgs=vgs,vds=vds_delta,rounding=False)\n",
    "        rdson = 0.001/(ids_delta-ids)\n",
    "        \n",
    "        return round(rdson,3)\n",
    "        \n",
    "    def train_leakage(self,data=None,\n",
    "                      batch_size=5,\n",
    "                      epochs=20,\n",
    "                      learning_rate=2e-5,\n",
    "                      verbose=1):\n",
    "        \"\"\"\n",
    "        Trains the digital twin for leakage current model with experimental data\n",
    "        Args:\n",
    "            data: The training data, expected as a Pandas DataFrame\n",
    "            batch_size (int): Training batch size\n",
    "            epochs (int): Number of epochs for training\n",
    "            learning_rate (float): Learning rate for training\n",
    "            verbose (0 or 1): Verbosity of display while training\n",
    "        \"\"\"\n",
    "        if data is None:\n",
    "            return \"No data to train with\"\n",
    "        X_train_scaled, X_test_scaled, \\\n",
    "        y_train_scaled, y_test_scaled = prepare_data(data,\n",
    "                                             input_cols=['w_l','vgs','vth'],\n",
    "                                             output_var='log-leakage',\n",
    "                                                     scaley=False)\n",
    "        \n",
    "        # Deep-learning model\n",
    "        model = build_model(num_layers=3,\n",
    "                            architecture=[32,32,32],\n",
    "                            input_dim=3)\n",
    "        # Compile and train\n",
    "        model_trained = compile_train_model(model,\n",
    "                                            X_train_scaled,\n",
    "                                            y_train_scaled,\n",
    "                                            batch_size=batch_size,\n",
    "                                            epochs=epochs,\n",
    "                                            learning_rate=learning_rate,\n",
    "                                            verbose=verbose)\n",
    "        self.leakage_model = model_trained\n",
    "        self._leakage_ = True\n",
    "    \n",
    "    def leakage(self,\n",
    "                w_l=1e-2,\n",
    "                vgs=None,\n",
    "                vth=None):\n",
    "        \"\"\"\n",
    "        Calculates leakage current using the deep learning model\n",
    "        \"\"\"\n",
    "        if not self._leakage_:\n",
    "            return \"Leakage model is not trained yet\"\n",
    "        # Vgs\n",
    "        if vgs is None:\n",
    "            vgs = self._terminals_['gate'] - self._terminals_['source']\n",
    "        else:\n",
    "            vgs = vgs\n",
    "        # Vth\n",
    "        if vth is None:\n",
    "            vth = self._params_['Vth']\n",
    "        else:\n",
    "            vth = vth\n",
    "        # Predict\n",
    "        x = np.array([w_l,vgs,vth])\n",
    "        ip = x.reshape(-1,3)\n",
    "        result = float(10**(-self.leakage_model.predict(ip)))\n",
    "        \n",
    "        return result"
   ]
  },
  {
   "cell_type": "markdown",
   "id": "b21b8843",
   "metadata": {},
   "source": [
    "## MOSFET "
   ]
  },
  {
   "cell_type": "code",
   "execution_count": 292,
   "id": "4e539a80",
   "metadata": {},
   "outputs": [],
   "source": [
    "mosfet = MOSFET()"
   ]
  },
  {
   "cell_type": "code",
   "execution_count": 293,
   "id": "c7fad189",
   "metadata": {},
   "outputs": [
    {
     "data": {
      "text/plain": [
       "Digital Twin of a MOSFET"
      ]
     },
     "execution_count": 293,
     "metadata": {},
     "output_type": "execute_result"
    }
   ],
   "source": [
    "mosfet"
   ]
  },
  {
   "cell_type": "code",
   "execution_count": 294,
   "id": "b6f125b4",
   "metadata": {},
   "outputs": [
    {
     "data": {
      "text/plain": [
       "'OFF'"
      ]
     },
     "execution_count": 294,
     "metadata": {},
     "output_type": "execute_result"
    }
   ],
   "source": [
    "mosfet._state_"
   ]
  },
  {
   "cell_type": "code",
   "execution_count": 295,
   "id": "7a8a2978",
   "metadata": {},
   "outputs": [
    {
     "data": {
      "text/plain": [
       "{'BV': 20, 'Vth': 1.0, 'gm': 0.01}"
      ]
     },
     "execution_count": 295,
     "metadata": {},
     "output_type": "execute_result"
    }
   ],
   "source": [
    "mosfet._params_"
   ]
  },
  {
   "cell_type": "markdown",
   "id": "e68ab7df",
   "metadata": {},
   "source": [
    "### Object state changes as terminal voltage assignment varies"
   ]
  },
  {
   "cell_type": "code",
   "execution_count": 296,
   "id": "8d809fad",
   "metadata": {},
   "outputs": [],
   "source": [
    "mosfet = MOSFET(terminals={'source':0.0,\n",
    "            'drain':0.0,\n",
    "            'gate':2.0}, \n",
    "           params={'BV':20,\n",
    "                   'Vth':1.0,\n",
    "                   'gm':1e-2})"
   ]
  },
  {
   "cell_type": "code",
   "execution_count": 297,
   "id": "f2f22006",
   "metadata": {},
   "outputs": [
    {
     "data": {
      "text/plain": [
       "'ON'"
      ]
     },
     "execution_count": 297,
     "metadata": {},
     "output_type": "execute_result"
    }
   ],
   "source": [
    "mosfet._state_"
   ]
  },
  {
   "cell_type": "code",
   "execution_count": 298,
   "id": "9f66ba46",
   "metadata": {},
   "outputs": [],
   "source": [
    "mosfet = MOSFET(terminals={'source':0.0,\n",
    "            'drain':0.0,\n",
    "            'gate':0.7},\n",
    "            params={'BV':20,\n",
    "                   'Vth':1.0,\n",
    "                   'gm':1e-2})"
   ]
  },
  {
   "cell_type": "code",
   "execution_count": 299,
   "id": "abf90936",
   "metadata": {},
   "outputs": [
    {
     "data": {
      "text/plain": [
       "'OFF'"
      ]
     },
     "execution_count": 299,
     "metadata": {},
     "output_type": "execute_result"
    }
   ],
   "source": [
    "mosfet._state_"
   ]
  },
  {
   "cell_type": "markdown",
   "id": "db96c4ce",
   "metadata": {},
   "source": [
    "### Ids-Vds @Vg"
   ]
  },
  {
   "cell_type": "code",
   "execution_count": 300,
   "id": "42e0ec5d",
   "metadata": {},
   "outputs": [
    {
     "data": {
      "text/plain": [
       "5.320334084404105e-14"
      ]
     },
     "execution_count": 300,
     "metadata": {},
     "output_type": "execute_result"
    }
   ],
   "source": [
    "mosfet.id_vd(vgs=0.2,vds=2.0)"
   ]
  },
  {
   "cell_type": "code",
   "execution_count": 301,
   "id": "36b9dda6",
   "metadata": {},
   "outputs": [
    {
     "data": {
      "text/plain": [
       "0.009"
      ]
     },
     "execution_count": 301,
     "metadata": {},
     "output_type": "execute_result"
    }
   ],
   "source": [
    "mosfet.id_vd(vgs=3.0,vds=0.5)"
   ]
  },
  {
   "cell_type": "code",
   "execution_count": 302,
   "id": "14b5e115",
   "metadata": {},
   "outputs": [
    {
     "data": {
      "text/plain": [
       "0.015"
      ]
     },
     "execution_count": 302,
     "metadata": {},
     "output_type": "execute_result"
    }
   ],
   "source": [
    "mosfet.id_vd(vgs=3.0,vds=1.0)"
   ]
  },
  {
   "cell_type": "code",
   "execution_count": 303,
   "id": "20c12bb2",
   "metadata": {},
   "outputs": [
    {
     "data": {
      "text/plain": [
       "0.02"
      ]
     },
     "execution_count": 303,
     "metadata": {},
     "output_type": "execute_result"
    }
   ],
   "source": [
    "mosfet.id_vd(vgs=3.0,vds=3.0)"
   ]
  },
  {
   "cell_type": "code",
   "execution_count": 304,
   "id": "10077049",
   "metadata": {},
   "outputs": [
    {
     "data": {
      "text/plain": [
       "0.02"
      ]
     },
     "execution_count": 304,
     "metadata": {},
     "output_type": "execute_result"
    }
   ],
   "source": [
    "mosfet.id_vd(vgs=3.0,vds=4.0)"
   ]
  },
  {
   "cell_type": "code",
   "execution_count": 305,
   "id": "98d4c2ca",
   "metadata": {},
   "outputs": [
    {
     "data": {
      "text/plain": [
       "'ON'"
      ]
     },
     "execution_count": 305,
     "metadata": {},
     "output_type": "execute_result"
    }
   ],
   "source": [
    "mosfet._state_"
   ]
  },
  {
   "cell_type": "code",
   "execution_count": 306,
   "id": "3f0ea53c",
   "metadata": {},
   "outputs": [
    {
     "data": {
      "text/plain": [
       "66.689"
      ]
     },
     "execution_count": 306,
     "metadata": {},
     "output_type": "execute_result"
    }
   ],
   "source": [
    "mosfet.rdson(vgs=3.0,vds=0.5)"
   ]
  },
  {
   "cell_type": "code",
   "execution_count": 307,
   "id": "c38beaa2",
   "metadata": {},
   "outputs": [
    {
     "data": {
      "text/plain": [
       "71.454"
      ]
     },
     "execution_count": 307,
     "metadata": {},
     "output_type": "execute_result"
    }
   ],
   "source": [
    "mosfet.rdson(vgs=3.0,vds=0.6)"
   ]
  },
  {
   "cell_type": "code",
   "execution_count": 308,
   "id": "ffb2ba8c",
   "metadata": {},
   "outputs": [
    {
     "data": {
      "text/plain": [
       "40.008"
      ]
     },
     "execution_count": 308,
     "metadata": {},
     "output_type": "execute_result"
    }
   ],
   "source": [
    "mosfet.rdson(vgs=5.0,vds=1.5)"
   ]
  },
  {
   "cell_type": "code",
   "execution_count": 309,
   "id": "9e05e3b4",
   "metadata": {},
   "outputs": [],
   "source": [
    "ids = []\n",
    "mosfet = MOSFET()\n",
    "vds_vals = [0.01*i for i in range(1,501)]\n",
    "for v in vds_vals:\n",
    "    ids.append(mosfet.id_vd(vgs=3.0,vds=v,rounding=False))"
   ]
  },
  {
   "cell_type": "code",
   "execution_count": 310,
   "id": "45dacf07",
   "metadata": {},
   "outputs": [
    {
     "data": {
      "image/png": "[encoded data removed]",
      "text/plain": [
       "<Figure size 720x480 with 1 Axes>"
      ]
     },
     "metadata": {
      "needs_background": "light"
     },
     "output_type": "display_data"
    }
   ],
   "source": [
    "plt.figure(dpi=120)\n",
    "plt.plot(vds_vals,ids)\n",
    "plt.xlabel(\"Vds (V)\",fontsize=15)\n",
    "plt.ylabel(\"Ids (A)\",fontsize=15)\n",
    "plt.show()"
   ]
  },
  {
   "cell_type": "code",
   "execution_count": 311,
   "id": "2212d7f7",
   "metadata": {},
   "outputs": [
    {
     "data": {
      "image/png": "[encoded data removed]",
      "text/plain": [
       "<Figure size 720x480 with 1 Axes>"
      ]
     },
     "metadata": {
      "needs_background": "light"
     },
     "output_type": "display_data"
    }
   ],
   "source": [
    "m = MOSFET()\n",
    "plt.figure(dpi=120)\n",
    "for vgs in [0.5,0.9,1.5,2.0,2.5]:\n",
    "    ids = []\n",
    "    vds_vals = [0.01*i for i in range(1,501)]\n",
    "    for v in vds_vals:\n",
    "        ids.append(m.id_vd(vgs=vgs,vds=v,rounding=False))\n",
    "    plt.plot(vds_vals,ids)\n",
    "plt.legend([\"Vgs = \"+str(v) for v in [0.5,0.9,1.5,2.0,2.5]])\n",
    "plt.xlabel(\"Vds (V)\",fontsize=15)\n",
    "plt.ylabel(\"Ids (A)\",fontsize=15)\n",
    "plt.show()"
   ]
  },
  {
   "cell_type": "markdown",
   "id": "5a026007",
   "metadata": {},
   "source": [
    "### Sub-Vth leakage"
   ]
  },
  {
   "cell_type": "code",
   "execution_count": 312,
   "id": "0e008d8a",
   "metadata": {},
   "outputs": [
    {
     "data": {
      "text/plain": [
       "'No data to train with'"
      ]
     },
     "execution_count": 312,
     "metadata": {},
     "output_type": "execute_result"
    }
   ],
   "source": [
    "mosfet.train_leakage()"
   ]
  },
  {
   "cell_type": "code",
   "execution_count": 313,
   "id": "6bf3ffc2",
   "metadata": {},
   "outputs": [
    {
     "data": {
      "image/png": "[encoded data removed]",
      "text/plain": [
       "<Figure size 432x288 with 1 Axes>"
      ]
     },
     "metadata": {
      "needs_background": "light"
     },
     "output_type": "display_data"
    }
   ],
   "source": [
    "sub = []\n",
    "for i in range(100):\n",
    "    sub.append(sub_vth(w_l=1e-2,vgs=0.5,vth=1.0))\n",
    "\n",
    "plt.hist(sub,edgecolor='k')\n",
    "plt.show()"
   ]
  },
  {
   "cell_type": "code",
   "execution_count": 314,
   "id": "18608270",
   "metadata": {},
   "outputs": [
    {
     "data": {
      "image/png": "[encoded data removed]",
      "text/plain": [
       "<Figure size 432x288 with 1 Axes>"
      ]
     },
     "metadata": {
      "needs_background": "light"
     },
     "output_type": "display_data"
    }
   ],
   "source": [
    "sub = []\n",
    "vgs = []\n",
    "for i in range(100):\n",
    "    sub.append(sub_vth(w_l=1e-2,vgs=i*0.01,vth=1.0))\n",
    "    vgs.append(i*0.01)\n",
    "\n",
    "plt.semilogy(vgs,sub)\n",
    "plt.show()"
   ]
  },
  {
   "cell_type": "markdown",
   "id": "6be4d78a",
   "metadata": {},
   "source": [
    "### Synthetic leakage data"
   ]
  },
  {
   "cell_type": "code",
   "execution_count": 315,
   "id": "0af871d5",
   "metadata": {},
   "outputs": [],
   "source": [
    "from itertools import product"
   ]
  },
  {
   "cell_type": "code",
   "execution_count": 316,
   "id": "7f464d5a",
   "metadata": {},
   "outputs": [],
   "source": [
    "w_l_list = [1e-3*i for i in range(1,21)]\n",
    "vgs_list = [0.01*i for i in range(1,91)]\n",
    "vth_list = [0.05*i for i in range(21,31)]"
   ]
  },
  {
   "cell_type": "code",
   "execution_count": 317,
   "id": "e455ca3f",
   "metadata": {},
   "outputs": [],
   "source": [
    "comb = list(product(w_l_list,vgs_list,vth_list))"
   ]
  },
  {
   "cell_type": "code",
   "execution_count": 318,
   "id": "98ea2cc0",
   "metadata": {},
   "outputs": [],
   "source": [
    "data_dict = {'w_l':[],'vgs':[],'vth':[],'sub-vth':[]}\n",
    "for c in comb:\n",
    "    data_dict['w_l'].append(c[0])\n",
    "    data_dict['vgs'].append(c[1])\n",
    "    data_dict['vth'].append(c[2])\n",
    "    data_dict['sub-vth'].append(sub_vth(c[0],c[1],c[2]))"
   ]
  },
  {
   "cell_type": "code",
   "execution_count": 319,
   "id": "5f521009",
   "metadata": {},
   "outputs": [],
   "source": [
    "df = pd.DataFrame(data=data_dict,columns=['w_l','vgs','vth','sub-vth'])"
   ]
  },
  {
   "cell_type": "code",
   "execution_count": 320,
   "id": "401e60c3",
   "metadata": {},
   "outputs": [
    {
     "data": {
      "text/html": [
       "<div>\n",
       "<style scoped>\n",
       "    .dataframe tbody tr th:only-of-type {\n",
       "        vertical-align: middle;\n",
       "    }\n",
       "\n",
       "    .dataframe tbody tr th {\n",
       "        vertical-align: top;\n",
       "    }\n",
       "\n",
       "    .dataframe thead th {\n",
       "        text-align: right;\n",
       "    }\n",
       "</style>\n",
       "<table border=\"1\" class=\"dataframe\">\n",
       "  <thead>\n",
       "    <tr style=\"text-align: right;\">\n",
       "      <th></th>\n",
       "      <th>4139</th>\n",
       "      <th>13303</th>\n",
       "      <th>146</th>\n",
       "      <th>16281</th>\n",
       "      <th>13880</th>\n",
       "      <th>3508</th>\n",
       "      <th>12347</th>\n",
       "    </tr>\n",
       "  </thead>\n",
       "  <tbody>\n",
       "    <tr>\n",
       "      <th>w_l</th>\n",
       "      <td>5.000000e-03</td>\n",
       "      <td>1.500000e-02</td>\n",
       "      <td>1.000000e-03</td>\n",
       "      <td>1.900000e-02</td>\n",
       "      <td>1.600000e-02</td>\n",
       "      <td>4.000000e-03</td>\n",
       "      <td>1.400000e-02</td>\n",
       "    </tr>\n",
       "    <tr>\n",
       "      <th>vgs</th>\n",
       "      <td>5.400000e-01</td>\n",
       "      <td>7.100000e-01</td>\n",
       "      <td>1.500000e-01</td>\n",
       "      <td>9.000000e-02</td>\n",
       "      <td>3.900000e-01</td>\n",
       "      <td>8.100000e-01</td>\n",
       "      <td>6.500000e-01</td>\n",
       "    </tr>\n",
       "    <tr>\n",
       "      <th>vth</th>\n",
       "      <td>1.500000e+00</td>\n",
       "      <td>1.200000e+00</td>\n",
       "      <td>1.350000e+00</td>\n",
       "      <td>1.100000e+00</td>\n",
       "      <td>1.050000e+00</td>\n",
       "      <td>1.450000e+00</td>\n",
       "      <td>1.400000e+00</td>\n",
       "    </tr>\n",
       "    <tr>\n",
       "      <th>sub-vth</th>\n",
       "      <td>1.478181e-16</td>\n",
       "      <td>2.204706e-09</td>\n",
       "      <td>1.095886e-20</td>\n",
       "      <td>1.461705e-16</td>\n",
       "      <td>1.071094e-11</td>\n",
       "      <td>4.816676e-12</td>\n",
       "      <td>5.774792e-13</td>\n",
       "    </tr>\n",
       "  </tbody>\n",
       "</table>\n",
       "</div>"
      ],
      "text/plain": [
       "                4139          13303         146           16281         13880  \\\n",
       "w_l      5.000000e-03  1.500000e-02  1.000000e-03  1.900000e-02  1.600000e-02   \n",
       "vgs      5.400000e-01  7.100000e-01  1.500000e-01  9.000000e-02  3.900000e-01   \n",
       "vth      1.500000e+00  1.200000e+00  1.350000e+00  1.100000e+00  1.050000e+00   \n",
       "sub-vth  1.478181e-16  2.204706e-09  1.095886e-20  1.461705e-16  1.071094e-11   \n",
       "\n",
       "                3508          12347  \n",
       "w_l      4.000000e-03  1.400000e-02  \n",
       "vgs      8.100000e-01  6.500000e-01  \n",
       "vth      1.450000e+00  1.400000e+00  \n",
       "sub-vth  4.816676e-12  5.774792e-13  "
      ]
     },
     "execution_count": 320,
     "metadata": {},
     "output_type": "execute_result"
    }
   ],
   "source": [
    "df.sample(7).T"
   ]
  },
  {
   "cell_type": "code",
   "execution_count": 321,
   "id": "b325efdf",
   "metadata": {},
   "outputs": [],
   "source": [
    "df['log-leakage'] = -np.log10(df['sub-vth'])"
   ]
  },
  {
   "cell_type": "code",
   "execution_count": null,
   "id": "74d479de",
   "metadata": {},
   "outputs": [],
   "source": []
  }
 ],
 "metadata": {
  "kernelspec": {
   "display_name": "Python 3 (ipykernel)",
   "language": "python",
   "name": "python3"
  },
  "language_info": {
   "codemirror_mode": {
    "name": "ipython",
    "version": 3
   },
   "file_extension": ".py",
   "mimetype": "text/x-python",
   "name": "python",
   "nbconvert_exporter": "python",
   "pygments_lexer": "ipython3",
   "version": "3.9.12"
  }
 },
 "nbformat": 4,
 "nbformat_minor": 5
}
